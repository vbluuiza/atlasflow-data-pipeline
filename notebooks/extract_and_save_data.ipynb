{
 "cells": [
  {
   "cell_type": "markdown",
   "id": "ed664feb",
   "metadata": {},
   "source": [
    "## Connect to MongoDB"
   ]
  },
  {
   "cell_type": "code",
   "execution_count": null,
   "id": "b3297efa",
   "metadata": {},
   "outputs": [
    {
     "name": "stdout",
     "output_type": "stream",
     "text": [
      "Pinged your deployment. You successfully connected to MongoDB!\n"
     ]
    }
   ],
   "source": [
    "from pymongo.mongo_client import MongoClient\n",
    "from pymongo.server_api import ServerApi\n",
    "import os \n",
    "from dotenv import load_dotenv\n",
    "\n",
    "load_dotenv()\n",
    "\n",
    "uri = os.getenv('mongo_uri')\n",
    "\n",
    "# Create a new client and connect to the server\n",
    "client = MongoClient(uri, server_api=ServerApi('1'))\n",
    "# Send a ping to confirm a successful connection\n",
    "try:\n",
    "    client.admin.command('ping')\n",
    "    print(\"Pinged your deployment. You successfully connected to MongoDB!\")\n",
    "except Exception as e:\n",
    "    print(e)"
   ]
  },
  {
   "cell_type": "markdown",
   "id": "55eddf38",
   "metadata": {},
   "source": [
    "## Create DataBase and Collection"
   ]
  },
  {
   "cell_type": "code",
   "execution_count": 7,
   "id": "0400d38b",
   "metadata": {},
   "outputs": [],
   "source": [
    "db = client[\"db_products\"]\n",
    "collection = db[\"products\"]"
   ]
  },
  {
   "cell_type": "code",
   "execution_count": 12,
   "id": "727f387a",
   "metadata": {},
   "outputs": [
    {
     "data": {
      "text/plain": [
       "['db_products', 'sample_mflix', 'admin', 'local']"
      ]
     },
     "execution_count": 12,
     "metadata": {},
     "output_type": "execute_result"
    }
   ],
   "source": [
    "client.list_database_names()"
   ]
  },
  {
   "cell_type": "code",
   "execution_count": 11,
   "id": "1206b9be",
   "metadata": {},
   "outputs": [
    {
     "data": {
      "text/plain": [
       "<pymongo.results.InsertOneResult at 0x7f41fa5335b0>"
      ]
     },
     "execution_count": 11,
     "metadata": {},
     "output_type": "execute_result"
    }
   ],
   "source": [
    "product = {\"product\": \"computador\",\n",
    "           \"quantity\": 77\n",
    "           }\n",
    "\n",
    "collection.insert_one(product)"
   ]
  },
  {
   "cell_type": "code",
   "execution_count": 13,
   "id": "b00b7a8a",
   "metadata": {},
   "outputs": [
    {
     "data": {
      "text/plain": [
       "{'_id': ObjectId('682f9bb3407ffb562c16f031'),\n",
       " 'product': 'computador',\n",
       " 'quantity': 77}"
      ]
     },
     "execution_count": 13,
     "metadata": {},
     "output_type": "execute_result"
    }
   ],
   "source": [
    "collection.find_one()"
   ]
  },
  {
   "cell_type": "markdown",
   "id": "bbf621c2",
   "metadata": {},
   "source": [
    "## Extract API Data"
   ]
  },
  {
   "cell_type": "code",
   "execution_count": 18,
   "id": "3f1970c0",
   "metadata": {},
   "outputs": [
    {
     "data": {
      "text/plain": [
       "[{'Produto': 'Modelagem preditiva',\n",
       "  'Categoria do Produto': 'livros',\n",
       "  'Preço': 92.45,\n",
       "  'Frete': 5.6096965236,\n",
       "  'Data da Compra': '01/01/2020',\n",
       "  'Vendedor': 'Thiago Silva',\n",
       "  'Local da compra': 'BA',\n",
       "  'Avaliação da compra': 1,\n",
       "  'Tipo de pagamento': 'cartao_credito',\n",
       "  'Quantidade de parcelas': 3,\n",
       "  'lat': -13.29,\n",
       "  'lon': -41.71}]"
      ]
     },
     "execution_count": 18,
     "metadata": {},
     "output_type": "execute_result"
    }
   ],
   "source": [
    "import requests\n",
    "\n",
    "url = 'https://labdados.com/produtos'\n",
    "\n",
    "response = requests.get(url)\n",
    "response.json()[:1]"
   ]
  },
  {
   "cell_type": "code",
   "execution_count": 33,
   "id": "120fb870",
   "metadata": {},
   "outputs": [
    {
     "data": {
      "text/plain": [
       "9435"
      ]
     },
     "execution_count": 33,
     "metadata": {},
     "output_type": "execute_result"
    }
   ],
   "source": [
    "len(response.json())"
   ]
  },
  {
   "cell_type": "markdown",
   "id": "d90ab03f",
   "metadata": {},
   "source": [
    "## Load the extracted data into the collection"
   ]
  },
  {
   "cell_type": "code",
   "execution_count": 38,
   "id": "3032b8a9",
   "metadata": {},
   "outputs": [],
   "source": [
    "docs = collection.insert_many(response.json())"
   ]
  },
  {
   "cell_type": "code",
   "execution_count": 31,
   "id": "9e75b0dd",
   "metadata": {},
   "outputs": [
    {
     "data": {
      "text/plain": [
       "9435"
      ]
     },
     "execution_count": 31,
     "metadata": {},
     "output_type": "execute_result"
    }
   ],
   "source": [
    "len(docs.inserted_ids)"
   ]
  },
  {
   "cell_type": "code",
   "execution_count": 39,
   "id": "c2673c22",
   "metadata": {},
   "outputs": [
    {
     "data": {
      "text/plain": [
       "9435"
      ]
     },
     "execution_count": 39,
     "metadata": {},
     "output_type": "execute_result"
    }
   ],
   "source": [
    "collection.count_documents({})"
   ]
  }
 ],
 "metadata": {
  "kernelspec": {
   "display_name": "venv",
   "language": "python",
   "name": "python3"
  },
  "language_info": {
   "codemirror_mode": {
    "name": "ipython",
    "version": 3
   },
   "file_extension": ".py",
   "mimetype": "text/x-python",
   "name": "python",
   "nbconvert_exporter": "python",
   "pygments_lexer": "ipython3",
   "version": "3.10.12"
  }
 },
 "nbformat": 4,
 "nbformat_minor": 5
}
