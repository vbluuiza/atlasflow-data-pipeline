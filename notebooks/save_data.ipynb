{
 "cells": [
  {
   "cell_type": "markdown",
   "id": "1b4c99ac",
   "metadata": {},
   "source": [
    "## Setup mySQL with Python"
   ]
  },
  {
   "cell_type": "code",
   "execution_count": 5,
   "id": "ccd2473c",
   "metadata": {},
   "outputs": [],
   "source": [
    "import mysql.connector\n",
    "import os\n",
    "from dotenv import load_dotenv\n",
    "\n",
    "load_dotenv()\n",
    "\n",
    "connection = mysql.connector.connect(\n",
    "    host=\"localhost\",\n",
    "    user=\"vbluuiza\",\n",
    "    password=os.getenv('mysql_password'),\n",
    "    connection_timeout=5\n",
    ")"
   ]
  },
  {
   "cell_type": "code",
   "execution_count": 6,
   "id": "47a730c0",
   "metadata": {},
   "outputs": [],
   "source": [
    "cursor = connection.cursor()"
   ]
  },
  {
   "cell_type": "markdown",
   "id": "0a5ce9a6",
   "metadata": {},
   "source": [
    "## Create a DataBase"
   ]
  },
  {
   "cell_type": "code",
   "execution_count": 7,
   "id": "4f007ff9",
   "metadata": {},
   "outputs": [],
   "source": [
    "cursor.execute(\"DROP DATABASE IF EXISTS db_products\")\n",
    "cursor.execute(\"CREATE DATABASE IF NOT EXISTS db_products\")\n",
    "connection.commit()"
   ]
  },
  {
   "cell_type": "code",
   "execution_count": 8,
   "id": "89983b42",
   "metadata": {},
   "outputs": [
    {
     "name": "stdout",
     "output_type": "stream",
     "text": [
      "('db_products',)\n",
      "('information_schema',)\n",
      "('mysql',)\n",
      "('performance_schema',)\n",
      "('sys',)\n"
     ]
    }
   ],
   "source": [
    "cursor.execute(\"SHOW DATABASES;\" )\n",
    "\n",
    "for db in cursor:\n",
    "    print(db)"
   ]
  },
  {
   "cell_type": "markdown",
   "id": "236d278a",
   "metadata": {},
   "source": [
    "## Create Table"
   ]
  },
  {
   "cell_type": "code",
   "execution_count": 9,
   "id": "8912f8cf",
   "metadata": {},
   "outputs": [],
   "source": [
    "import pandas as pd\n",
    "\n",
    "path_books = '../data/table_books.csv'\n",
    "path_products_from_2021 = '../data/table_from_2021.csv'\n",
    "\n",
    "df_books = pd.read_csv(path_books)\n",
    "df_products_from_2021 = pd.read_csv(path_products_from_2021)\n"
   ]
  },
  {
   "cell_type": "code",
   "execution_count": 18,
   "id": "73e9df75",
   "metadata": {},
   "outputs": [
    {
     "data": {
      "text/plain": [
       "Index(['id', 'produto', 'categoria_do_produto', 'preco', 'frete',\n",
       "       'data_da_compra', 'vendedor', 'local_da_compra', 'avaliacao_da_compra',\n",
       "       'tipo_de_pagamento', 'quantidade_de_parcelas', 'latitude', 'longitude'],\n",
       "      dtype='object')"
      ]
     },
     "execution_count": 18,
     "metadata": {},
     "output_type": "execute_result"
    }
   ],
   "source": [
    "df_books.columns"
   ]
  },
  {
   "cell_type": "code",
   "execution_count": null,
   "id": "ae59ea87",
   "metadata": {},
   "outputs": [],
   "source": [
    "df_books.info()"
   ]
  },
  {
   "cell_type": "code",
   "execution_count": 12,
   "id": "a20b8565",
   "metadata": {},
   "outputs": [],
   "source": [
    "cursor.execute(\"DROP TABLE IF EXISTS db_products.books\")\n",
    "connection.commit()\n",
    "cursor.execute('''\n",
    "               CREATE TABLE IF NOT EXISTS db_products.books(\n",
    "                   id VARCHAR(100),\n",
    "                   produto VARCHAR(100),\n",
    "                   categoria_produto VARCHAR(100),\n",
    "                   preco FLOAT(10,2),\n",
    "                   frete FLOAT(10,2),\n",
    "                   data_da_compra DATE,\n",
    "                   vendedor VARCHAR(100),\n",
    "                   local_da_compra VARCHAR(100),\n",
    "                   avaliacao_da_compra INT,\n",
    "                   tipo_de_pagamento VARCHAR(100),\n",
    "                   qunatidade_de_parcelas INT,\n",
    "                   latitude FLOAT(10,2),\n",
    "                   longitude FLOAT(10,2),\n",
    "                   \n",
    "                   PRIMARY KEY (id)\n",
    "                   \n",
    "               )\n",
    "               ''')\n",
    "connection.commit()"
   ]
  },
  {
   "cell_type": "code",
   "execution_count": 13,
   "id": "56aa1ca5",
   "metadata": {},
   "outputs": [
    {
     "name": "stdout",
     "output_type": "stream",
     "text": [
      "('books',)\n"
     ]
    }
   ],
   "source": [
    "cursor.execute('USE db_products;')\n",
    "cursor.execute('SHOW TABLES;')\n",
    "for table in cursor:\n",
    "    print(table)"
   ]
  },
  {
   "cell_type": "markdown",
   "id": "ee712949",
   "metadata": {},
   "source": [
    "## Insert CSV data into our table books"
   ]
  },
  {
   "cell_type": "code",
   "execution_count": null,
   "id": "ca4571cd",
   "metadata": {},
   "outputs": [],
   "source": [
    "data_list = [tuple(row) for i, row in df_books.iterrows()]\n",
    "data_list"
   ]
  },
  {
   "cell_type": "code",
   "execution_count": 15,
   "id": "1199ab6d",
   "metadata": {},
   "outputs": [],
   "source": [
    "sql = \"INSERT INTO db_products.books  VALUES (%s, %s, %s, %s, %s, %s, %s, %s, %s, %s, %s, %s, %s)\""
   ]
  },
  {
   "cell_type": "code",
   "execution_count": 16,
   "id": "59715cb6",
   "metadata": {},
   "outputs": [],
   "source": [
    "cursor.executemany(sql, data_list)\n",
    "connection.commit()\n"
   ]
  },
  {
   "cell_type": "code",
   "execution_count": 17,
   "id": "7bd2a73d",
   "metadata": {},
   "outputs": [
    {
     "name": "stdout",
     "output_type": "stream",
     "text": [
      "742 inserted data\n"
     ]
    }
   ],
   "source": [
    "print(f'{cursor.rowcount} inserted data')"
   ]
  },
  {
   "cell_type": "markdown",
   "id": "65b56932",
   "metadata": {},
   "source": [
    "## Create product_from_2021 table"
   ]
  },
  {
   "cell_type": "code",
   "execution_count": 19,
   "id": "c1a28e20",
   "metadata": {},
   "outputs": [
    {
     "data": {
      "text/plain": [
       "Index(['id', 'produto', 'categoria_do_produto', 'preco', 'frete',\n",
       "       'data_da_compra', 'vendedor', 'local_da_compra', 'avaliacao_da_compra',\n",
       "       'tipo_de_pagamento', 'quantidade_de_parcelas', 'latitude', 'longitude'],\n",
       "      dtype='object')"
      ]
     },
     "execution_count": 19,
     "metadata": {},
     "output_type": "execute_result"
    }
   ],
   "source": [
    "df_products_from_2021.columns"
   ]
  },
  {
   "cell_type": "code",
   "execution_count": null,
   "id": "4d8a0137",
   "metadata": {},
   "outputs": [],
   "source": [
    "df_products_from_2021.info()"
   ]
  },
  {
   "cell_type": "code",
   "execution_count": 21,
   "id": "072bc3e2",
   "metadata": {},
   "outputs": [],
   "source": [
    "cursor.execute(\"DROP TABLE IF EXISTS db_products.products_from_2021\")\n",
    "connection.commit()\n",
    "cursor.execute('''\n",
    "               CREATE TABLE IF NOT EXISTS db_products.products_from_2021(\n",
    "                   id VARCHAR(100),\n",
    "                   produto VARCHAR(100),\n",
    "                   categoria_produto VARCHAR(100),\n",
    "                   preco FLOAT(10,2),\n",
    "                   frete FLOAT(10,2),\n",
    "                   data_da_compra DATE,\n",
    "                   vendedor VARCHAR(100),\n",
    "                   local_da_compra VARCHAR(100),\n",
    "                   avaliacao_da_compra INT,\n",
    "                   tipo_de_pagamento VARCHAR(100),\n",
    "                   qunatidade_de_parcelas INT,\n",
    "                   latitude FLOAT(10,2),\n",
    "                   longitude FLOAT(10,2),\n",
    "                   \n",
    "                   PRIMARY KEY (id)\n",
    "                   \n",
    "               )\n",
    "               ''')\n",
    "connection.commit()"
   ]
  },
  {
   "cell_type": "code",
   "execution_count": 22,
   "id": "6190ff0c",
   "metadata": {},
   "outputs": [
    {
     "name": "stdout",
     "output_type": "stream",
     "text": [
      "('books',)\n",
      "('products_from_2021',)\n"
     ]
    }
   ],
   "source": [
    "cursor.execute('USE db_products;')\n",
    "cursor.execute('SHOW TABLES;')\n",
    "for table in cursor:\n",
    "    print(table)"
   ]
  },
  {
   "cell_type": "markdown",
   "id": "99556dfc",
   "metadata": {},
   "source": [
    "## Insert CSV data into our table product_from_2021"
   ]
  },
  {
   "cell_type": "code",
   "execution_count": null,
   "id": "17756e64",
   "metadata": {},
   "outputs": [],
   "source": [
    "data_list = [tuple(row) for i, row in df_products_from_2021.iterrows()]\n",
    "data_list"
   ]
  },
  {
   "cell_type": "code",
   "execution_count": 24,
   "id": "43b8153d",
   "metadata": {},
   "outputs": [],
   "source": [
    "sql = \"INSERT INTO db_products.products_from_2021  VALUES (%s, %s, %s, %s, %s, %s, %s, %s, %s, %s, %s, %s, %s)\""
   ]
  },
  {
   "cell_type": "code",
   "execution_count": 25,
   "id": "c0b7b866",
   "metadata": {},
   "outputs": [],
   "source": [
    "cursor.executemany(sql, data_list)\n",
    "connection.commit()"
   ]
  },
  {
   "cell_type": "code",
   "execution_count": 26,
   "id": "9fb4f787",
   "metadata": {},
   "outputs": [
    {
     "name": "stdout",
     "output_type": "stream",
     "text": [
      "742 inserted data\n"
     ]
    }
   ],
   "source": [
    "print(f'{cursor.rowcount} inserted data')"
   ]
  },
  {
   "cell_type": "code",
   "execution_count": null,
   "id": "c103137f",
   "metadata": {},
   "outputs": [],
   "source": [
    "cursor.close()"
   ]
  },
  {
   "cell_type": "code",
   "execution_count": null,
   "id": "933ee3ef",
   "metadata": {},
   "outputs": [],
   "source": [
    "connection.close()"
   ]
  }
 ],
 "metadata": {
  "kernelspec": {
   "display_name": "venv",
   "language": "python",
   "name": "python3"
  },
  "language_info": {
   "codemirror_mode": {
    "name": "ipython",
    "version": 3
   },
   "file_extension": ".py",
   "mimetype": "text/x-python",
   "name": "python",
   "nbconvert_exporter": "python",
   "pygments_lexer": "ipython3",
   "version": "3.10.12"
  }
 },
 "nbformat": 4,
 "nbformat_minor": 5
}
