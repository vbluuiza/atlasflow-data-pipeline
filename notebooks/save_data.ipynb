{
 "cells": [
  {
   "cell_type": "markdown",
   "id": "1b4c99ac",
   "metadata": {},
   "source": [
    "## Setup mySQL with Python"
   ]
  },
  {
   "cell_type": "code",
   "execution_count": 1,
   "id": "ccd2473c",
   "metadata": {},
   "outputs": [],
   "source": [
    "import mysql.connector\n",
    "import os\n",
    "from dotenv import load_dotenv\n",
    "\n",
    "load_dotenv()\n",
    "\n",
    "connection = mysql.connector.connect(\n",
    "    host=\"localhost\",\n",
    "    user=\"vbluuiza\",\n",
    "    password=os.getenv('mysql_password')\n",
    ")"
   ]
  },
  {
   "cell_type": "code",
   "execution_count": 2,
   "id": "47a730c0",
   "metadata": {},
   "outputs": [],
   "source": [
    "cursor = connection.cursor()"
   ]
  },
  {
   "cell_type": "markdown",
   "id": "0a5ce9a6",
   "metadata": {},
   "source": [
    "## Create a DataBase"
   ]
  },
  {
   "cell_type": "code",
   "execution_count": 3,
   "id": "8a0f292f",
   "metadata": {},
   "outputs": [],
   "source": [
    "cursor.execute('''\n",
    "               CREATE DATABASE IF NOT EXISTS db_products;\n",
    "               ''')\n",
    "cursor.nextset()"
   ]
  },
  {
   "cell_type": "code",
   "execution_count": 4,
   "id": "89983b42",
   "metadata": {},
   "outputs": [
    {
     "name": "stdout",
     "output_type": "stream",
     "text": [
      "('db_products',)\n",
      "('information_schema',)\n",
      "('mysql',)\n",
      "('performance_schema',)\n",
      "('sys',)\n"
     ]
    }
   ],
   "source": [
    "cursor.execute(\"SHOW DATABASES;\" )\n",
    "\n",
    "for db in cursor:\n",
    "    print(db)"
   ]
  },
  {
   "cell_type": "markdown",
   "id": "236d278a",
   "metadata": {},
   "source": [
    "## Create Table"
   ]
  },
  {
   "cell_type": "code",
   "execution_count": 5,
   "id": "8912f8cf",
   "metadata": {},
   "outputs": [
    {
     "data": {
      "text/plain": [
       "Index(['id', 'produto', 'categoria_do_produto', 'preco', 'frete',\n",
       "       'data_da_compra', 'vendedor', 'local_da_compra', 'avaliacao_da_compra',\n",
       "       'tipo_de_pagamento', 'quantidade_de_parcelas', 'latitude', 'longitude'],\n",
       "      dtype='object')"
      ]
     },
     "execution_count": 5,
     "metadata": {},
     "output_type": "execute_result"
    }
   ],
   "source": [
    "import pandas as pd\n",
    "\n",
    "path = '../data/table_books.csv'\n",
    "\n",
    "df_books = pd.read_csv(path)\n",
    "\n",
    "df_books.columns"
   ]
  },
  {
   "cell_type": "code",
   "execution_count": 6,
   "id": "ae59ea87",
   "metadata": {},
   "outputs": [
    {
     "name": "stdout",
     "output_type": "stream",
     "text": [
      "<class 'pandas.core.frame.DataFrame'>\n",
      "RangeIndex: 742 entries, 0 to 741\n",
      "Data columns (total 13 columns):\n",
      " #   Column                  Non-Null Count  Dtype  \n",
      "---  ------                  --------------  -----  \n",
      " 0   id                      742 non-null    object \n",
      " 1   produto                 742 non-null    object \n",
      " 2   categoria_do_produto    742 non-null    object \n",
      " 3   preco                   742 non-null    float64\n",
      " 4   frete                   742 non-null    float64\n",
      " 5   data_da_compra          742 non-null    object \n",
      " 6   vendedor                742 non-null    object \n",
      " 7   local_da_compra         742 non-null    object \n",
      " 8   avaliacao_da_compra     742 non-null    int64  \n",
      " 9   tipo_de_pagamento       742 non-null    object \n",
      " 10  quantidade_de_parcelas  742 non-null    int64  \n",
      " 11  latitude                742 non-null    float64\n",
      " 12  longitude               742 non-null    float64\n",
      "dtypes: float64(4), int64(2), object(7)\n",
      "memory usage: 75.5+ KB\n"
     ]
    }
   ],
   "source": [
    "df_books.info()"
   ]
  },
  {
   "cell_type": "code",
   "execution_count": 7,
   "id": "a20b8565",
   "metadata": {},
   "outputs": [],
   "source": [
    "cursor.execute('''\n",
    "               CREATE TABLE IF NOT EXISTS db_products.books(\n",
    "                   id VARCHAR(100),\n",
    "                   produto VARCHAR(100),\n",
    "                   categoria_produto VARCHAR(100),\n",
    "                   preco FLOAT(10,2),\n",
    "                   frete FLOAT(10,2),\n",
    "                   data_da_compra DATE,\n",
    "                   vendedor VARCHAR(100),\n",
    "                   local_da_compra VARCHAR(100),\n",
    "                   avaliacao_da_compra INT,\n",
    "                   tipo_de_pagamento VARCHAR(100),\n",
    "                   qunatidade_de_parcelas INT,\n",
    "                   latitude FLOAT(10,2),\n",
    "                   longitude FLOAT(10,2),\n",
    "                   \n",
    "                   PRIMARY KEY (id)\n",
    "                   \n",
    "               );\n",
    "               ''')\n",
    "               \n",
    "cursor.nextset()"
   ]
  },
  {
   "cell_type": "code",
   "execution_count": 8,
   "id": "56aa1ca5",
   "metadata": {},
   "outputs": [
    {
     "name": "stdout",
     "output_type": "stream",
     "text": [
      "('books',)\n"
     ]
    }
   ],
   "source": [
    "cursor.execute('USE db_products;')\n",
    "\n",
    "cursor.execute('SHOW TABLES;')\n",
    "for table in cursor:\n",
    "    print(table)"
   ]
  },
  {
   "cell_type": "markdown",
   "id": "ee712949",
   "metadata": {},
   "source": [
    "## Insert CSV data into our table"
   ]
  },
  {
   "cell_type": "code",
   "execution_count": null,
   "id": "ca4571cd",
   "metadata": {},
   "outputs": [],
   "source": [
    "data_list = [tuple(row) for i, row in df_books.iterrows()]\n",
    "data_list"
   ]
  },
  {
   "cell_type": "code",
   "execution_count": 21,
   "id": "1199ab6d",
   "metadata": {},
   "outputs": [],
   "source": [
    "sql = \"INSERT INTO db_products.books  VALUES (%s, %s, %s, %s, %s, %s, %s, %s, %s, %s, %s, %s, %s)\""
   ]
  },
  {
   "cell_type": "code",
   "execution_count": 22,
   "id": "59715cb6",
   "metadata": {},
   "outputs": [],
   "source": [
    "cursor.executemany(sql, data_list)\n",
    "connection.commit()\n"
   ]
  },
  {
   "cell_type": "code",
   "execution_count": 24,
   "id": "7bd2a73d",
   "metadata": {},
   "outputs": [
    {
     "name": "stdout",
     "output_type": "stream",
     "text": [
      "742 inserted data\n"
     ]
    }
   ],
   "source": [
    "print(f'{cursor.rowcount} inserted data')"
   ]
  }
 ],
 "metadata": {
  "kernelspec": {
   "display_name": "venv",
   "language": "python",
   "name": "python3"
  },
  "language_info": {
   "codemirror_mode": {
    "name": "ipython",
    "version": 3
   },
   "file_extension": ".py",
   "mimetype": "text/x-python",
   "name": "python",
   "nbconvert_exporter": "python",
   "pygments_lexer": "ipython3",
   "version": "3.10.12"
  }
 },
 "nbformat": 4,
 "nbformat_minor": 5
}
