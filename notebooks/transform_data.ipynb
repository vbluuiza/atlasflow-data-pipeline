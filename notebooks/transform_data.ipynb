{
 "cells": [
  {
   "cell_type": "markdown",
   "id": "005c5a55",
   "metadata": {},
   "source": [
    "## Connect to MongoDB"
   ]
  },
  {
   "cell_type": "code",
   "execution_count": 2,
   "id": "5b9bf505",
   "metadata": {},
   "outputs": [
    {
     "name": "stdout",
     "output_type": "stream",
     "text": [
      "Pinged your deployment. You successfully connected to MongoDB!\n"
     ]
    }
   ],
   "source": [
    "from pymongo.mongo_client import MongoClient\n",
    "from pymongo.server_api import ServerApi\n",
    "import os \n",
    "from dotenv import load_dotenv\n",
    "\n",
    "load_dotenv()\n",
    "\n",
    "uri = os.getenv('uri')\n",
    "\n",
    "# Create a new client and connect to the server\n",
    "client = MongoClient(uri, server_api=ServerApi('1'))\n",
    "# Send a ping to confirm a successful connection\n",
    "try:\n",
    "    client.admin.command('ping')\n",
    "    print(\"Pinged your deployment. You successfully connected to MongoDB!\")\n",
    "except Exception as e:\n",
    "    print(e)"
   ]
  },
  {
   "cell_type": "markdown",
   "id": "86916e5f",
   "metadata": {},
   "source": [
    "## Read Data"
   ]
  },
  {
   "cell_type": "code",
   "execution_count": 3,
   "id": "367e4def",
   "metadata": {},
   "outputs": [],
   "source": [
    "db = client[\"db_products\"]\n",
    "collection = db[\"products\"]"
   ]
  },
  {
   "cell_type": "code",
   "execution_count": 4,
   "id": "f0e5cd26",
   "metadata": {},
   "outputs": [
    {
     "data": {
      "text/plain": [
       "{'_id': ObjectId('682f9e6a407ffb562c1739e8'),\n",
       " 'Produto': 'Modelagem preditiva',\n",
       " 'Categoria do Produto': 'livros',\n",
       " 'Preço': 92.45,\n",
       " 'Frete': 5.6096965236,\n",
       " 'Data da Compra': '01/01/2020',\n",
       " 'Vendedor': 'Thiago Silva',\n",
       " 'Local da compra': 'BA',\n",
       " 'Avaliação da compra': 1,\n",
       " 'Tipo de pagamento': 'cartao_credito',\n",
       " 'Quantidade de parcelas': 3,\n",
       " 'Latitude': -13.29,\n",
       " 'Longitude': -41.71}"
      ]
     },
     "execution_count": 4,
     "metadata": {},
     "output_type": "execute_result"
    }
   ],
   "source": [
    "collection.find_one()"
   ]
  },
  {
   "cell_type": "markdown",
   "id": "d843883e",
   "metadata": {},
   "source": [
    "## Rename \"lat\" and \"lon\" columns"
   ]
  },
  {
   "cell_type": "code",
   "execution_count": 5,
   "id": "47dd167d",
   "metadata": {},
   "outputs": [
    {
     "data": {
      "text/plain": [
       "<pymongo.results.UpdateResult at 0x7f51898ebca0>"
      ]
     },
     "execution_count": 5,
     "metadata": {},
     "output_type": "execute_result"
    }
   ],
   "source": [
    "collection.update_many({}, {\"$rename\": {\"lat\": \"Latitude\", \"lon\": \"Longitude\"}} )"
   ]
  },
  {
   "cell_type": "code",
   "execution_count": 6,
   "id": "423d412c",
   "metadata": {},
   "outputs": [
    {
     "data": {
      "text/plain": [
       "{'_id': ObjectId('682f9e6a407ffb562c1739e8'),\n",
       " 'Produto': 'Modelagem preditiva',\n",
       " 'Categoria do Produto': 'livros',\n",
       " 'Preço': 92.45,\n",
       " 'Frete': 5.6096965236,\n",
       " 'Data da Compra': '01/01/2020',\n",
       " 'Vendedor': 'Thiago Silva',\n",
       " 'Local da compra': 'BA',\n",
       " 'Avaliação da compra': 1,\n",
       " 'Tipo de pagamento': 'cartao_credito',\n",
       " 'Quantidade de parcelas': 3,\n",
       " 'Latitude': -13.29,\n",
       " 'Longitude': -41.71}"
      ]
     },
     "execution_count": 6,
     "metadata": {},
     "output_type": "execute_result"
    }
   ],
   "source": [
    "collection.find_one()"
   ]
  },
  {
   "cell_type": "markdown",
   "id": "ec6e6199",
   "metadata": {},
   "source": [
    "## Filter category books log "
   ]
  },
  {
   "cell_type": "code",
   "execution_count": 7,
   "id": "94d61b1e",
   "metadata": {},
   "outputs": [
    {
     "data": {
      "text/plain": [
       "['brinquedos',\n",
       " 'eletrodomesticos',\n",
       " 'eletronicos',\n",
       " 'esporte e lazer',\n",
       " 'instrumentos musicais',\n",
       " 'livros',\n",
       " 'moveis',\n",
       " 'utilidades domesticas']"
      ]
     },
     "execution_count": 7,
     "metadata": {},
     "output_type": "execute_result"
    }
   ],
   "source": [
    "collection.distinct(\"Categoria do Produto\")"
   ]
  },
  {
   "cell_type": "code",
   "execution_count": 8,
   "id": "e0c6b7ae",
   "metadata": {},
   "outputs": [],
   "source": [
    "query = {\"Categoria do Produto\": \"livros\"}\n",
    "\n",
    "books_list = []\n",
    "for doc in collection.find(query):\n",
    "    books_list.append(doc)"
   ]
  },
  {
   "cell_type": "code",
   "execution_count": 9,
   "id": "c0dba18b",
   "metadata": {},
   "outputs": [
    {
     "data": {
      "text/plain": [
       "742"
      ]
     },
     "execution_count": 9,
     "metadata": {},
     "output_type": "execute_result"
    }
   ],
   "source": [
    "len(books_list)"
   ]
  },
  {
   "cell_type": "code",
   "execution_count": 10,
   "id": "f118f3d9",
   "metadata": {},
   "outputs": [
    {
     "data": {
      "text/plain": [
       "{'_id': ObjectId('682f9e6a407ffb562c175ebf'),\n",
       " 'Produto': 'Dashboards com Power BI',\n",
       " 'Categoria do Produto': 'livros',\n",
       " 'Preço': 54.85,\n",
       " 'Frete': 3.4517020142,\n",
       " 'Data da Compra': '31/12/2022',\n",
       " 'Vendedor': 'Lucas Oliveira',\n",
       " 'Local da compra': 'RJ',\n",
       " 'Avaliação da compra': 5,\n",
       " 'Tipo de pagamento': 'cartao_credito',\n",
       " 'Quantidade de parcelas': 3,\n",
       " 'Latitude': -22.25,\n",
       " 'Longitude': -42.66}"
      ]
     },
     "execution_count": 10,
     "metadata": {},
     "output_type": "execute_result"
    }
   ],
   "source": [
    "books_list[-1]"
   ]
  },
  {
   "cell_type": "markdown",
   "id": "4b2c6393",
   "metadata": {},
   "source": [
    "## Load Data into DataFrame"
   ]
  },
  {
   "cell_type": "code",
   "execution_count": 24,
   "id": "57075abc",
   "metadata": {},
   "outputs": [],
   "source": [
    "import pandas as pd"
   ]
  },
  {
   "cell_type": "code",
   "execution_count": 25,
   "id": "3a9d2f59",
   "metadata": {},
   "outputs": [],
   "source": [
    "df_books = pd.DataFrame(books_list)"
   ]
  },
  {
   "cell_type": "code",
   "execution_count": 26,
   "id": "0110dc31",
   "metadata": {},
   "outputs": [
    {
     "name": "stdout",
     "output_type": "stream",
     "text": [
      "<class 'pandas.core.frame.DataFrame'>\n",
      "RangeIndex: 742 entries, 0 to 741\n",
      "Data columns (total 13 columns):\n",
      " #   Column                  Non-Null Count  Dtype  \n",
      "---  ------                  --------------  -----  \n",
      " 0   _id                     742 non-null    object \n",
      " 1   Produto                 742 non-null    object \n",
      " 2   Categoria do Produto    742 non-null    object \n",
      " 3   Preço                   742 non-null    float64\n",
      " 4   Frete                   742 non-null    float64\n",
      " 5   Data da Compra          742 non-null    object \n",
      " 6   Vendedor                742 non-null    object \n",
      " 7   Local da compra         742 non-null    object \n",
      " 8   Avaliação da compra     742 non-null    int64  \n",
      " 9   Tipo de pagamento       742 non-null    object \n",
      " 10  Quantidade de parcelas  742 non-null    int64  \n",
      " 11  Latitude                742 non-null    float64\n",
      " 12  Longitude               742 non-null    float64\n",
      "dtypes: float64(4), int64(2), object(7)\n",
      "memory usage: 75.5+ KB\n"
     ]
    }
   ],
   "source": [
    "df_books.info()"
   ]
  },
  {
   "cell_type": "code",
   "execution_count": 23,
   "id": "b53ecae8",
   "metadata": {},
   "outputs": [
    {
     "data": {
      "text/plain": [
       "Index(['_id', 'Produto', 'Categoria do Produto', 'Preço', 'Frete',\n",
       "       'Data da Compra', 'Vendedor', 'Local da compra', 'Avaliação da compra',\n",
       "       'Tipo de pagamento', 'Quantidade de parcelas', 'Latitude', 'Longitude'],\n",
       "      dtype='object')"
      ]
     },
     "execution_count": 23,
     "metadata": {},
     "output_type": "execute_result"
    }
   ],
   "source": [
    "df_books.columns"
   ]
  },
  {
   "cell_type": "code",
   "execution_count": 22,
   "id": "907a9bdc",
   "metadata": {},
   "outputs": [
    {
     "data": {
      "text/html": [
       "<div>\n",
       "<style scoped>\n",
       "    .dataframe tbody tr th:only-of-type {\n",
       "        vertical-align: middle;\n",
       "    }\n",
       "\n",
       "    .dataframe tbody tr th {\n",
       "        vertical-align: top;\n",
       "    }\n",
       "\n",
       "    .dataframe thead th {\n",
       "        text-align: right;\n",
       "    }\n",
       "</style>\n",
       "<table border=\"1\" class=\"dataframe\">\n",
       "  <thead>\n",
       "    <tr style=\"text-align: right;\">\n",
       "      <th></th>\n",
       "      <th>_id</th>\n",
       "      <th>Produto</th>\n",
       "      <th>Categoria do Produto</th>\n",
       "      <th>Preço</th>\n",
       "      <th>Frete</th>\n",
       "      <th>Data da Compra</th>\n",
       "      <th>Vendedor</th>\n",
       "      <th>Local da compra</th>\n",
       "      <th>Avaliação da compra</th>\n",
       "      <th>Tipo de pagamento</th>\n",
       "      <th>Quantidade de parcelas</th>\n",
       "      <th>Latitude</th>\n",
       "      <th>Longitude</th>\n",
       "    </tr>\n",
       "  </thead>\n",
       "  <tbody>\n",
       "    <tr>\n",
       "      <th>0</th>\n",
       "      <td>682f9e6a407ffb562c1739e8</td>\n",
       "      <td>Modelagem preditiva</td>\n",
       "      <td>livros</td>\n",
       "      <td>92.45</td>\n",
       "      <td>5.609697</td>\n",
       "      <td>01/01/2020</td>\n",
       "      <td>Thiago Silva</td>\n",
       "      <td>BA</td>\n",
       "      <td>1</td>\n",
       "      <td>cartao_credito</td>\n",
       "      <td>3</td>\n",
       "      <td>-13.29</td>\n",
       "      <td>-41.71</td>\n",
       "    </tr>\n",
       "    <tr>\n",
       "      <th>1</th>\n",
       "      <td>682f9e6a407ffb562c1739e9</td>\n",
       "      <td>Iniciando em programação</td>\n",
       "      <td>livros</td>\n",
       "      <td>43.84</td>\n",
       "      <td>0.000000</td>\n",
       "      <td>01/01/2020</td>\n",
       "      <td>Mariana Ferreira</td>\n",
       "      <td>SP</td>\n",
       "      <td>5</td>\n",
       "      <td>cartao_credito</td>\n",
       "      <td>1</td>\n",
       "      <td>-22.19</td>\n",
       "      <td>-48.79</td>\n",
       "    </tr>\n",
       "    <tr>\n",
       "      <th>2</th>\n",
       "      <td>682f9e6a407ffb562c1739fb</td>\n",
       "      <td>Iniciando em programação</td>\n",
       "      <td>livros</td>\n",
       "      <td>63.25</td>\n",
       "      <td>3.894137</td>\n",
       "      <td>01/01/2022</td>\n",
       "      <td>Juliana Costa</td>\n",
       "      <td>RJ</td>\n",
       "      <td>5</td>\n",
       "      <td>cartao_credito</td>\n",
       "      <td>4</td>\n",
       "      <td>-22.25</td>\n",
       "      <td>-42.66</td>\n",
       "    </tr>\n",
       "    <tr>\n",
       "      <th>3</th>\n",
       "      <td>682f9e6a407ffb562c173a09</td>\n",
       "      <td>Ciência de dados com python</td>\n",
       "      <td>livros</td>\n",
       "      <td>86.13</td>\n",
       "      <td>5.273176</td>\n",
       "      <td>01/02/2021</td>\n",
       "      <td>Camila Ribeiro</td>\n",
       "      <td>RJ</td>\n",
       "      <td>4</td>\n",
       "      <td>cartao_credito</td>\n",
       "      <td>3</td>\n",
       "      <td>-22.25</td>\n",
       "      <td>-42.66</td>\n",
       "    </tr>\n",
       "    <tr>\n",
       "      <th>4</th>\n",
       "      <td>682f9e6a407ffb562c173a0b</td>\n",
       "      <td>Ciência de dados com python</td>\n",
       "      <td>livros</td>\n",
       "      <td>72.75</td>\n",
       "      <td>1.458158</td>\n",
       "      <td>01/02/2021</td>\n",
       "      <td>Beatriz Moraes</td>\n",
       "      <td>PR</td>\n",
       "      <td>4</td>\n",
       "      <td>cartao_credito</td>\n",
       "      <td>2</td>\n",
       "      <td>-24.89</td>\n",
       "      <td>-51.55</td>\n",
       "    </tr>\n",
       "  </tbody>\n",
       "</table>\n",
       "</div>"
      ],
      "text/plain": [
       "                        _id                      Produto Categoria do Produto  \\\n",
       "0  682f9e6a407ffb562c1739e8          Modelagem preditiva               livros   \n",
       "1  682f9e6a407ffb562c1739e9     Iniciando em programação               livros   \n",
       "2  682f9e6a407ffb562c1739fb     Iniciando em programação               livros   \n",
       "3  682f9e6a407ffb562c173a09  Ciência de dados com python               livros   \n",
       "4  682f9e6a407ffb562c173a0b  Ciência de dados com python               livros   \n",
       "\n",
       "   Preço     Frete Data da Compra          Vendedor Local da compra  \\\n",
       "0  92.45  5.609697     01/01/2020      Thiago Silva              BA   \n",
       "1  43.84  0.000000     01/01/2020  Mariana Ferreira              SP   \n",
       "2  63.25  3.894137     01/01/2022     Juliana Costa              RJ   \n",
       "3  86.13  5.273176     01/02/2021    Camila Ribeiro              RJ   \n",
       "4  72.75  1.458158     01/02/2021    Beatriz Moraes              PR   \n",
       "\n",
       "   Avaliação da compra Tipo de pagamento  Quantidade de parcelas  Latitude  \\\n",
       "0                    1    cartao_credito                       3    -13.29   \n",
       "1                    5    cartao_credito                       1    -22.19   \n",
       "2                    5    cartao_credito                       4    -22.25   \n",
       "3                    4    cartao_credito                       3    -22.25   \n",
       "4                    4    cartao_credito                       2    -24.89   \n",
       "\n",
       "   Longitude  \n",
       "0     -41.71  \n",
       "1     -48.79  \n",
       "2     -42.66  \n",
       "3     -42.66  \n",
       "4     -51.55  "
      ]
     },
     "execution_count": 22,
     "metadata": {},
     "output_type": "execute_result"
    }
   ],
   "source": [
    "df_books.head()"
   ]
  },
  {
   "cell_type": "markdown",
   "id": "aec8b8a5",
   "metadata": {},
   "source": [
    "## Transform and Filter Data"
   ]
  },
  {
   "cell_type": "code",
   "execution_count": 45,
   "id": "de3e6ed2",
   "metadata": {},
   "outputs": [],
   "source": [
    "df_books = df_books.rename(columns={\"_id\": \"id\",\n",
    "                         \"Produto\": \"produto\",\n",
    "                         \"Categoria do Produto\": \"categoria_do_produto\",\n",
    "                         \"Preço\": \"preco\",\n",
    "                         \"Frete\": \"frete\",\n",
    "                         \"Data da Compra\": \"data_da_compra\",\n",
    "                         \"Vendedor\": \"vendedor\",\n",
    "                         \"Local da compra\": \"local_da_compra\",\n",
    "                         \"Avaliação da compra\": \"avaliacao_da_compra\",\n",
    "                         \"Tipo de pagamento\": \"tipo_de_pagamento\",\n",
    "                         \"Quantidade de parcelas\": \"quantidade_de_parcelas\",\n",
    "                         \"Latitude\": \"latitude\",\n",
    "                         \"Longitude\": \"longitude\"\n",
    "                         })"
   ]
  },
  {
   "cell_type": "code",
   "execution_count": 46,
   "id": "be4cfa54",
   "metadata": {},
   "outputs": [
    {
     "data": {
      "text/plain": [
       "Index(['id', 'produto', 'categoria_do_produto', 'preco', 'frete',\n",
       "       'data_da_compra', 'vendedor', 'local_da_compra', 'avaliacao_da_compra',\n",
       "       'tipo_de_pagamento', 'quantidade_de_parcelas', 'latitude', 'longitude'],\n",
       "      dtype='object')"
      ]
     },
     "execution_count": 46,
     "metadata": {},
     "output_type": "execute_result"
    }
   ],
   "source": [
    "df_books.columns"
   ]
  },
  {
   "cell_type": "code",
   "execution_count": 49,
   "id": "14da046f",
   "metadata": {},
   "outputs": [
    {
     "name": "stdout",
     "output_type": "stream",
     "text": [
      "<class 'pandas.core.frame.DataFrame'>\n",
      "RangeIndex: 742 entries, 0 to 741\n",
      "Data columns (total 13 columns):\n",
      " #   Column                  Non-Null Count  Dtype         \n",
      "---  ------                  --------------  -----         \n",
      " 0   id                      742 non-null    object        \n",
      " 1   produto                 742 non-null    object        \n",
      " 2   categoria_do_produto    742 non-null    object        \n",
      " 3   preco                   742 non-null    float64       \n",
      " 4   frete                   742 non-null    float64       \n",
      " 5   data_da_compra          742 non-null    datetime64[ns]\n",
      " 6   vendedor                742 non-null    object        \n",
      " 7   local_da_compra         742 non-null    object        \n",
      " 8   avaliacao_da_compra     742 non-null    int64         \n",
      " 9   tipo_de_pagamento       742 non-null    object        \n",
      " 10  quantidade_de_parcelas  742 non-null    int64         \n",
      " 11  latitude                742 non-null    float64       \n",
      " 12  longitude               742 non-null    float64       \n",
      "dtypes: datetime64[ns](1), float64(4), int64(2), object(6)\n",
      "memory usage: 75.5+ KB\n"
     ]
    }
   ],
   "source": [
    "df_books[\"data_da_compra\"] = pd.to_datetime(df_books[\"data_da_compra\"], format=\"%d/%m/%Y\")\n",
    "df_books.info()"
   ]
  },
  {
   "cell_type": "code",
   "execution_count": 50,
   "id": "643f049e",
   "metadata": {},
   "outputs": [],
   "source": [
    "df_books[\"data_da_compra\"] = df_books[\"data_da_compra\"].dt.strftime(\"%Y-%m-%d\")"
   ]
  },
  {
   "cell_type": "code",
   "execution_count": 54,
   "id": "fabf27b0",
   "metadata": {},
   "outputs": [
    {
     "data": {
      "text/html": [
       "<div>\n",
       "<style scoped>\n",
       "    .dataframe tbody tr th:only-of-type {\n",
       "        vertical-align: middle;\n",
       "    }\n",
       "\n",
       "    .dataframe tbody tr th {\n",
       "        vertical-align: top;\n",
       "    }\n",
       "\n",
       "    .dataframe thead th {\n",
       "        text-align: right;\n",
       "    }\n",
       "</style>\n",
       "<table border=\"1\" class=\"dataframe\">\n",
       "  <thead>\n",
       "    <tr style=\"text-align: right;\">\n",
       "      <th></th>\n",
       "      <th>id</th>\n",
       "      <th>produto</th>\n",
       "      <th>categoria_do_produto</th>\n",
       "      <th>preco</th>\n",
       "      <th>frete</th>\n",
       "      <th>data_da_compra</th>\n",
       "      <th>vendedor</th>\n",
       "      <th>local_da_compra</th>\n",
       "      <th>avaliacao_da_compra</th>\n",
       "      <th>tipo_de_pagamento</th>\n",
       "      <th>quantidade_de_parcelas</th>\n",
       "      <th>latitude</th>\n",
       "      <th>longitude</th>\n",
       "    </tr>\n",
       "  </thead>\n",
       "  <tbody>\n",
       "    <tr>\n",
       "      <th>737</th>\n",
       "      <td>682f9e6a407ffb562c175e83</td>\n",
       "      <td>Dashboards com Power BI</td>\n",
       "      <td>livros</td>\n",
       "      <td>41.27</td>\n",
       "      <td>2.728608</td>\n",
       "      <td>2022-07-31</td>\n",
       "      <td>João Souza</td>\n",
       "      <td>SC</td>\n",
       "      <td>5</td>\n",
       "      <td>cartao_credito</td>\n",
       "      <td>12</td>\n",
       "      <td>-27.45</td>\n",
       "      <td>-50.95</td>\n",
       "    </tr>\n",
       "    <tr>\n",
       "      <th>738</th>\n",
       "      <td>682f9e6a407ffb562c175e87</td>\n",
       "      <td>Ciência de dados com python</td>\n",
       "      <td>livros</td>\n",
       "      <td>81.58</td>\n",
       "      <td>4.632666</td>\n",
       "      <td>2020-08-31</td>\n",
       "      <td>Juliana Costa</td>\n",
       "      <td>SP</td>\n",
       "      <td>5</td>\n",
       "      <td>cartao_credito</td>\n",
       "      <td>2</td>\n",
       "      <td>-22.19</td>\n",
       "      <td>-48.79</td>\n",
       "    </tr>\n",
       "    <tr>\n",
       "      <th>739</th>\n",
       "      <td>682f9e6a407ffb562c175e8d</td>\n",
       "      <td>Modelagem preditiva</td>\n",
       "      <td>livros</td>\n",
       "      <td>109.17</td>\n",
       "      <td>6.701389</td>\n",
       "      <td>2021-08-31</td>\n",
       "      <td>Felipe Santos</td>\n",
       "      <td>MG</td>\n",
       "      <td>3</td>\n",
       "      <td>cartao_credito</td>\n",
       "      <td>3</td>\n",
       "      <td>-18.10</td>\n",
       "      <td>-44.38</td>\n",
       "    </tr>\n",
       "    <tr>\n",
       "      <th>740</th>\n",
       "      <td>682f9e6a407ffb562c175e99</td>\n",
       "      <td>Modelagem preditiva</td>\n",
       "      <td>livros</td>\n",
       "      <td>94.89</td>\n",
       "      <td>5.578872</td>\n",
       "      <td>2022-08-31</td>\n",
       "      <td>Pedro Gomes</td>\n",
       "      <td>SP</td>\n",
       "      <td>5</td>\n",
       "      <td>cartao_credito</td>\n",
       "      <td>1</td>\n",
       "      <td>-22.19</td>\n",
       "      <td>-48.79</td>\n",
       "    </tr>\n",
       "    <tr>\n",
       "      <th>741</th>\n",
       "      <td>682f9e6a407ffb562c175ebf</td>\n",
       "      <td>Dashboards com Power BI</td>\n",
       "      <td>livros</td>\n",
       "      <td>54.85</td>\n",
       "      <td>3.451702</td>\n",
       "      <td>2022-12-31</td>\n",
       "      <td>Lucas Oliveira</td>\n",
       "      <td>RJ</td>\n",
       "      <td>5</td>\n",
       "      <td>cartao_credito</td>\n",
       "      <td>3</td>\n",
       "      <td>-22.25</td>\n",
       "      <td>-42.66</td>\n",
       "    </tr>\n",
       "  </tbody>\n",
       "</table>\n",
       "</div>"
      ],
      "text/plain": [
       "                           id                      produto  \\\n",
       "737  682f9e6a407ffb562c175e83      Dashboards com Power BI   \n",
       "738  682f9e6a407ffb562c175e87  Ciência de dados com python   \n",
       "739  682f9e6a407ffb562c175e8d          Modelagem preditiva   \n",
       "740  682f9e6a407ffb562c175e99          Modelagem preditiva   \n",
       "741  682f9e6a407ffb562c175ebf      Dashboards com Power BI   \n",
       "\n",
       "    categoria_do_produto   preco     frete data_da_compra        vendedor  \\\n",
       "737               livros   41.27  2.728608     2022-07-31      João Souza   \n",
       "738               livros   81.58  4.632666     2020-08-31   Juliana Costa   \n",
       "739               livros  109.17  6.701389     2021-08-31   Felipe Santos   \n",
       "740               livros   94.89  5.578872     2022-08-31     Pedro Gomes   \n",
       "741               livros   54.85  3.451702     2022-12-31  Lucas Oliveira   \n",
       "\n",
       "    local_da_compra  avaliacao_da_compra tipo_de_pagamento  \\\n",
       "737              SC                    5    cartao_credito   \n",
       "738              SP                    5    cartao_credito   \n",
       "739              MG                    3    cartao_credito   \n",
       "740              SP                    5    cartao_credito   \n",
       "741              RJ                    5    cartao_credito   \n",
       "\n",
       "     quantidade_de_parcelas  latitude  longitude  \n",
       "737                      12    -27.45     -50.95  \n",
       "738                       2    -22.19     -48.79  \n",
       "739                       3    -18.10     -44.38  \n",
       "740                       1    -22.19     -48.79  \n",
       "741                       3    -22.25     -42.66  "
      ]
     },
     "execution_count": 54,
     "metadata": {},
     "output_type": "execute_result"
    }
   ],
   "source": [
    "df_books.tail()"
   ]
  },
  {
   "cell_type": "markdown",
   "id": "51877bef",
   "metadata": {},
   "source": [
    "## Load data into CSV "
   ]
  },
  {
   "cell_type": "code",
   "execution_count": 56,
   "id": "3c7f58c8",
   "metadata": {},
   "outputs": [],
   "source": [
    "path = \"../data/table_books.csv\"\n",
    "df_books.to_csv(path, index=False)"
   ]
  },
  {
   "cell_type": "markdown",
   "id": "4a8e2e53",
   "metadata": {},
   "source": [
    "## Filter sold Products from 2021"
   ]
  },
  {
   "cell_type": "code",
   "execution_count": 58,
   "id": "d154db84",
   "metadata": {},
   "outputs": [
    {
     "data": {
      "text/plain": [
       "{'_id': ObjectId('682f9e6a407ffb562c1739e8'),\n",
       " 'Produto': 'Modelagem preditiva',\n",
       " 'Categoria do Produto': 'livros',\n",
       " 'Preço': 92.45,\n",
       " 'Frete': 5.6096965236,\n",
       " 'Data da Compra': '01/01/2020',\n",
       " 'Vendedor': 'Thiago Silva',\n",
       " 'Local da compra': 'BA',\n",
       " 'Avaliação da compra': 1,\n",
       " 'Tipo de pagamento': 'cartao_credito',\n",
       " 'Quantidade de parcelas': 3,\n",
       " 'Latitude': -13.29,\n",
       " 'Longitude': -41.71}"
      ]
     },
     "execution_count": 58,
     "metadata": {},
     "output_type": "execute_result"
    }
   ],
   "source": [
    "collection.find_one()"
   ]
  },
  {
   "cell_type": "code",
   "execution_count": null,
   "id": "1c869809",
   "metadata": {},
   "outputs": [],
   "source": [
    "query = {\"Data da Compra\": {\"$regex\": \"/202[1-9]\"}}"
   ]
  },
  {
   "cell_type": "code",
   "execution_count": 62,
   "id": "431b9739",
   "metadata": {},
   "outputs": [],
   "source": [
    "products_list = []\n",
    "for doc in collection.find(query):\n",
    "    products_list.append(doc)"
   ]
  },
  {
   "cell_type": "markdown",
   "id": "35551bbf",
   "metadata": {},
   "source": [
    "## Transform Products List"
   ]
  },
  {
   "cell_type": "code",
   "execution_count": null,
   "id": "7f946cf9",
   "metadata": {},
   "outputs": [],
   "source": [
    "products_list"
   ]
  },
  {
   "cell_type": "code",
   "execution_count": 64,
   "id": "f134501f",
   "metadata": {},
   "outputs": [],
   "source": [
    "df_products = pd.DataFrame(products_list)"
   ]
  },
  {
   "cell_type": "code",
   "execution_count": 66,
   "id": "7b4ca417",
   "metadata": {},
   "outputs": [
    {
     "name": "stdout",
     "output_type": "stream",
     "text": [
      "<class 'pandas.core.frame.DataFrame'>\n",
      "RangeIndex: 6574 entries, 0 to 6573\n",
      "Data columns (total 13 columns):\n",
      " #   Column                  Non-Null Count  Dtype  \n",
      "---  ------                  --------------  -----  \n",
      " 0   _id                     6574 non-null   object \n",
      " 1   Produto                 6574 non-null   object \n",
      " 2   Categoria do Produto    6574 non-null   object \n",
      " 3   Preço                   6574 non-null   float64\n",
      " 4   Frete                   6574 non-null   float64\n",
      " 5   Data da Compra          6574 non-null   object \n",
      " 6   Vendedor                6574 non-null   object \n",
      " 7   Local da compra         6574 non-null   object \n",
      " 8   Avaliação da compra     6574 non-null   int64  \n",
      " 9   Tipo de pagamento       6574 non-null   object \n",
      " 10  Quantidade de parcelas  6574 non-null   int64  \n",
      " 11  Latitude                6574 non-null   float64\n",
      " 12  Longitude               6574 non-null   float64\n",
      "dtypes: float64(4), int64(2), object(7)\n",
      "memory usage: 667.8+ KB\n"
     ]
    }
   ],
   "source": [
    "df_products.info()"
   ]
  },
  {
   "cell_type": "code",
   "execution_count": 67,
   "id": "dc77e55f",
   "metadata": {},
   "outputs": [
    {
     "data": {
      "text/html": [
       "<div>\n",
       "<style scoped>\n",
       "    .dataframe tbody tr th:only-of-type {\n",
       "        vertical-align: middle;\n",
       "    }\n",
       "\n",
       "    .dataframe tbody tr th {\n",
       "        vertical-align: top;\n",
       "    }\n",
       "\n",
       "    .dataframe thead th {\n",
       "        text-align: right;\n",
       "    }\n",
       "</style>\n",
       "<table border=\"1\" class=\"dataframe\">\n",
       "  <thead>\n",
       "    <tr style=\"text-align: right;\">\n",
       "      <th></th>\n",
       "      <th>_id</th>\n",
       "      <th>Produto</th>\n",
       "      <th>Categoria do Produto</th>\n",
       "      <th>Preço</th>\n",
       "      <th>Frete</th>\n",
       "      <th>Data da Compra</th>\n",
       "      <th>Vendedor</th>\n",
       "      <th>Local da compra</th>\n",
       "      <th>Avaliação da compra</th>\n",
       "      <th>Tipo de pagamento</th>\n",
       "      <th>Quantidade de parcelas</th>\n",
       "      <th>Latitude</th>\n",
       "      <th>Longitude</th>\n",
       "    </tr>\n",
       "  </thead>\n",
       "  <tbody>\n",
       "    <tr>\n",
       "      <th>0</th>\n",
       "      <td>682f9e6a407ffb562c1739f1</td>\n",
       "      <td>Xadrez de madeira</td>\n",
       "      <td>brinquedos</td>\n",
       "      <td>25.23</td>\n",
       "      <td>0.000000</td>\n",
       "      <td>01/01/2021</td>\n",
       "      <td>Thiago Silva</td>\n",
       "      <td>BA</td>\n",
       "      <td>5</td>\n",
       "      <td>cartao_credito</td>\n",
       "      <td>2</td>\n",
       "      <td>-13.29</td>\n",
       "      <td>-41.71</td>\n",
       "    </tr>\n",
       "    <tr>\n",
       "      <th>1</th>\n",
       "      <td>682f9e6a407ffb562c1739f2</td>\n",
       "      <td>Impressora</td>\n",
       "      <td>eletronicos</td>\n",
       "      <td>322.04</td>\n",
       "      <td>14.732100</td>\n",
       "      <td>01/01/2021</td>\n",
       "      <td>João Souza</td>\n",
       "      <td>SP</td>\n",
       "      <td>3</td>\n",
       "      <td>cartao_credito</td>\n",
       "      <td>1</td>\n",
       "      <td>-22.19</td>\n",
       "      <td>-48.79</td>\n",
       "    </tr>\n",
       "    <tr>\n",
       "      <th>2</th>\n",
       "      <td>682f9e6a407ffb562c1739f3</td>\n",
       "      <td>Mesa de centro</td>\n",
       "      <td>moveis</td>\n",
       "      <td>282.22</td>\n",
       "      <td>12.611805</td>\n",
       "      <td>01/01/2021</td>\n",
       "      <td>João Souza</td>\n",
       "      <td>SP</td>\n",
       "      <td>3</td>\n",
       "      <td>boleto</td>\n",
       "      <td>1</td>\n",
       "      <td>-22.19</td>\n",
       "      <td>-48.79</td>\n",
       "    </tr>\n",
       "    <tr>\n",
       "      <th>3</th>\n",
       "      <td>682f9e6a407ffb562c1739f4</td>\n",
       "      <td>Tablet ABXY</td>\n",
       "      <td>eletronicos</td>\n",
       "      <td>1100.42</td>\n",
       "      <td>68.451348</td>\n",
       "      <td>01/01/2021</td>\n",
       "      <td>Beatriz Moraes</td>\n",
       "      <td>SP</td>\n",
       "      <td>1</td>\n",
       "      <td>cupom</td>\n",
       "      <td>1</td>\n",
       "      <td>-22.19</td>\n",
       "      <td>-48.79</td>\n",
       "    </tr>\n",
       "    <tr>\n",
       "      <th>4</th>\n",
       "      <td>682f9e6a407ffb562c1739f5</td>\n",
       "      <td>Fogão</td>\n",
       "      <td>eletrodomesticos</td>\n",
       "      <td>791.81</td>\n",
       "      <td>42.444626</td>\n",
       "      <td>01/01/2021</td>\n",
       "      <td>Juliana Costa</td>\n",
       "      <td>SP</td>\n",
       "      <td>4</td>\n",
       "      <td>boleto</td>\n",
       "      <td>1</td>\n",
       "      <td>-22.19</td>\n",
       "      <td>-48.79</td>\n",
       "    </tr>\n",
       "  </tbody>\n",
       "</table>\n",
       "</div>"
      ],
      "text/plain": [
       "                        _id            Produto Categoria do Produto    Preço  \\\n",
       "0  682f9e6a407ffb562c1739f1  Xadrez de madeira           brinquedos    25.23   \n",
       "1  682f9e6a407ffb562c1739f2         Impressora          eletronicos   322.04   \n",
       "2  682f9e6a407ffb562c1739f3     Mesa de centro               moveis   282.22   \n",
       "3  682f9e6a407ffb562c1739f4        Tablet ABXY          eletronicos  1100.42   \n",
       "4  682f9e6a407ffb562c1739f5              Fogão     eletrodomesticos   791.81   \n",
       "\n",
       "       Frete Data da Compra        Vendedor Local da compra  \\\n",
       "0   0.000000     01/01/2021    Thiago Silva              BA   \n",
       "1  14.732100     01/01/2021      João Souza              SP   \n",
       "2  12.611805     01/01/2021      João Souza              SP   \n",
       "3  68.451348     01/01/2021  Beatriz Moraes              SP   \n",
       "4  42.444626     01/01/2021   Juliana Costa              SP   \n",
       "\n",
       "   Avaliação da compra Tipo de pagamento  Quantidade de parcelas  Latitude  \\\n",
       "0                    5    cartao_credito                       2    -13.29   \n",
       "1                    3    cartao_credito                       1    -22.19   \n",
       "2                    3            boleto                       1    -22.19   \n",
       "3                    1             cupom                       1    -22.19   \n",
       "4                    4            boleto                       1    -22.19   \n",
       "\n",
       "   Longitude  \n",
       "0     -41.71  \n",
       "1     -48.79  \n",
       "2     -48.79  \n",
       "3     -48.79  \n",
       "4     -48.79  "
      ]
     },
     "execution_count": 67,
     "metadata": {},
     "output_type": "execute_result"
    }
   ],
   "source": [
    "df_products.head()"
   ]
  },
  {
   "cell_type": "markdown",
   "id": "eeb391ac",
   "metadata": {},
   "source": [
    "## Rename Columns"
   ]
  },
  {
   "cell_type": "code",
   "execution_count": 70,
   "id": "54b67181",
   "metadata": {},
   "outputs": [],
   "source": [
    "df_products = df_products.rename(columns={\"_id\": \"id\",\n",
    "                         \"Produto\": \"produto\",\n",
    "                         \"Categoria do Produto\": \"categoria_do_produto\",\n",
    "                         \"Preço\": \"preco\",\n",
    "                         \"Frete\": \"frete\",\n",
    "                         \"Data da Compra\": \"data_da_compra\",\n",
    "                         \"Vendedor\": \"vendedor\",\n",
    "                         \"Local da compra\": \"local_da_compra\",\n",
    "                         \"Avaliação da compra\": \"avaliacao_da_compra\",\n",
    "                         \"Tipo de pagamento\": \"tipo_de_pagamento\",\n",
    "                         \"Quantidade de parcelas\": \"quantidade_de_parcelas\",\n",
    "                         \"Latitude\": \"latitude\",\n",
    "                         \"Longitude\": \"longitude\"\n",
    "                         })"
   ]
  },
  {
   "cell_type": "code",
   "execution_count": 71,
   "id": "fc29c3ed",
   "metadata": {},
   "outputs": [
    {
     "data": {
      "text/plain": [
       "Index(['id', 'produto', 'categoria_do_produto', 'preco', 'frete',\n",
       "       'data_da_compra', 'vendedor', 'local_da_compra', 'avaliacao_da_compra',\n",
       "       'tipo_de_pagamento', 'quantidade_de_parcelas', 'latitude', 'longitude'],\n",
       "      dtype='object')"
      ]
     },
     "execution_count": 71,
     "metadata": {},
     "output_type": "execute_result"
    }
   ],
   "source": [
    "df_products.columns"
   ]
  },
  {
   "cell_type": "markdown",
   "id": "f887c15f",
   "metadata": {},
   "source": [
    "## Format Date"
   ]
  },
  {
   "cell_type": "code",
   "execution_count": 74,
   "id": "c9f00db3",
   "metadata": {},
   "outputs": [
    {
     "name": "stdout",
     "output_type": "stream",
     "text": [
      "<class 'pandas.core.frame.DataFrame'>\n",
      "RangeIndex: 6574 entries, 0 to 6573\n",
      "Data columns (total 13 columns):\n",
      " #   Column                  Non-Null Count  Dtype         \n",
      "---  ------                  --------------  -----         \n",
      " 0   id                      6574 non-null   object        \n",
      " 1   produto                 6574 non-null   object        \n",
      " 2   categoria_do_produto    6574 non-null   object        \n",
      " 3   preco                   6574 non-null   float64       \n",
      " 4   frete                   6574 non-null   float64       \n",
      " 5   data_da_compra          6574 non-null   datetime64[ns]\n",
      " 6   vendedor                6574 non-null   object        \n",
      " 7   local_da_compra         6574 non-null   object        \n",
      " 8   avaliacao_da_compra     6574 non-null   int64         \n",
      " 9   tipo_de_pagamento       6574 non-null   object        \n",
      " 10  quantidade_de_parcelas  6574 non-null   int64         \n",
      " 11  latitude                6574 non-null   float64       \n",
      " 12  longitude               6574 non-null   float64       \n",
      "dtypes: datetime64[ns](1), float64(4), int64(2), object(6)\n",
      "memory usage: 667.8+ KB\n"
     ]
    }
   ],
   "source": [
    "df_products[\"data_da_compra\"] = pd.to_datetime(df_products[\"data_da_compra\"], format=\"%d/%m/%Y\")\n",
    "df_products.info()"
   ]
  },
  {
   "cell_type": "code",
   "execution_count": 75,
   "id": "f526bb95",
   "metadata": {},
   "outputs": [],
   "source": [
    "df_products[\"data_da_compra\"] = df_products[\"data_da_compra\"].dt.strftime(\"%Y-%m-%d\")"
   ]
  },
  {
   "cell_type": "code",
   "execution_count": 76,
   "id": "2013f85c",
   "metadata": {},
   "outputs": [
    {
     "data": {
      "text/html": [
       "<div>\n",
       "<style scoped>\n",
       "    .dataframe tbody tr th:only-of-type {\n",
       "        vertical-align: middle;\n",
       "    }\n",
       "\n",
       "    .dataframe tbody tr th {\n",
       "        vertical-align: top;\n",
       "    }\n",
       "\n",
       "    .dataframe thead th {\n",
       "        text-align: right;\n",
       "    }\n",
       "</style>\n",
       "<table border=\"1\" class=\"dataframe\">\n",
       "  <thead>\n",
       "    <tr style=\"text-align: right;\">\n",
       "      <th></th>\n",
       "      <th>id</th>\n",
       "      <th>produto</th>\n",
       "      <th>categoria_do_produto</th>\n",
       "      <th>preco</th>\n",
       "      <th>frete</th>\n",
       "      <th>data_da_compra</th>\n",
       "      <th>vendedor</th>\n",
       "      <th>local_da_compra</th>\n",
       "      <th>avaliacao_da_compra</th>\n",
       "      <th>tipo_de_pagamento</th>\n",
       "      <th>quantidade_de_parcelas</th>\n",
       "      <th>latitude</th>\n",
       "      <th>longitude</th>\n",
       "    </tr>\n",
       "  </thead>\n",
       "  <tbody>\n",
       "    <tr>\n",
       "      <th>0</th>\n",
       "      <td>682f9e6a407ffb562c1739f1</td>\n",
       "      <td>Xadrez de madeira</td>\n",
       "      <td>brinquedos</td>\n",
       "      <td>25.23</td>\n",
       "      <td>0.000000</td>\n",
       "      <td>2021-01-01</td>\n",
       "      <td>Thiago Silva</td>\n",
       "      <td>BA</td>\n",
       "      <td>5</td>\n",
       "      <td>cartao_credito</td>\n",
       "      <td>2</td>\n",
       "      <td>-13.29</td>\n",
       "      <td>-41.71</td>\n",
       "    </tr>\n",
       "    <tr>\n",
       "      <th>1</th>\n",
       "      <td>682f9e6a407ffb562c1739f2</td>\n",
       "      <td>Impressora</td>\n",
       "      <td>eletronicos</td>\n",
       "      <td>322.04</td>\n",
       "      <td>14.732100</td>\n",
       "      <td>2021-01-01</td>\n",
       "      <td>João Souza</td>\n",
       "      <td>SP</td>\n",
       "      <td>3</td>\n",
       "      <td>cartao_credito</td>\n",
       "      <td>1</td>\n",
       "      <td>-22.19</td>\n",
       "      <td>-48.79</td>\n",
       "    </tr>\n",
       "    <tr>\n",
       "      <th>2</th>\n",
       "      <td>682f9e6a407ffb562c1739f3</td>\n",
       "      <td>Mesa de centro</td>\n",
       "      <td>moveis</td>\n",
       "      <td>282.22</td>\n",
       "      <td>12.611805</td>\n",
       "      <td>2021-01-01</td>\n",
       "      <td>João Souza</td>\n",
       "      <td>SP</td>\n",
       "      <td>3</td>\n",
       "      <td>boleto</td>\n",
       "      <td>1</td>\n",
       "      <td>-22.19</td>\n",
       "      <td>-48.79</td>\n",
       "    </tr>\n",
       "    <tr>\n",
       "      <th>3</th>\n",
       "      <td>682f9e6a407ffb562c1739f4</td>\n",
       "      <td>Tablet ABXY</td>\n",
       "      <td>eletronicos</td>\n",
       "      <td>1100.42</td>\n",
       "      <td>68.451348</td>\n",
       "      <td>2021-01-01</td>\n",
       "      <td>Beatriz Moraes</td>\n",
       "      <td>SP</td>\n",
       "      <td>1</td>\n",
       "      <td>cupom</td>\n",
       "      <td>1</td>\n",
       "      <td>-22.19</td>\n",
       "      <td>-48.79</td>\n",
       "    </tr>\n",
       "    <tr>\n",
       "      <th>4</th>\n",
       "      <td>682f9e6a407ffb562c1739f5</td>\n",
       "      <td>Fogão</td>\n",
       "      <td>eletrodomesticos</td>\n",
       "      <td>791.81</td>\n",
       "      <td>42.444626</td>\n",
       "      <td>2021-01-01</td>\n",
       "      <td>Juliana Costa</td>\n",
       "      <td>SP</td>\n",
       "      <td>4</td>\n",
       "      <td>boleto</td>\n",
       "      <td>1</td>\n",
       "      <td>-22.19</td>\n",
       "      <td>-48.79</td>\n",
       "    </tr>\n",
       "  </tbody>\n",
       "</table>\n",
       "</div>"
      ],
      "text/plain": [
       "                         id            produto categoria_do_produto    preco  \\\n",
       "0  682f9e6a407ffb562c1739f1  Xadrez de madeira           brinquedos    25.23   \n",
       "1  682f9e6a407ffb562c1739f2         Impressora          eletronicos   322.04   \n",
       "2  682f9e6a407ffb562c1739f3     Mesa de centro               moveis   282.22   \n",
       "3  682f9e6a407ffb562c1739f4        Tablet ABXY          eletronicos  1100.42   \n",
       "4  682f9e6a407ffb562c1739f5              Fogão     eletrodomesticos   791.81   \n",
       "\n",
       "       frete data_da_compra        vendedor local_da_compra  \\\n",
       "0   0.000000     2021-01-01    Thiago Silva              BA   \n",
       "1  14.732100     2021-01-01      João Souza              SP   \n",
       "2  12.611805     2021-01-01      João Souza              SP   \n",
       "3  68.451348     2021-01-01  Beatriz Moraes              SP   \n",
       "4  42.444626     2021-01-01   Juliana Costa              SP   \n",
       "\n",
       "   avaliacao_da_compra tipo_de_pagamento  quantidade_de_parcelas  latitude  \\\n",
       "0                    5    cartao_credito                       2    -13.29   \n",
       "1                    3    cartao_credito                       1    -22.19   \n",
       "2                    3            boleto                       1    -22.19   \n",
       "3                    1             cupom                       1    -22.19   \n",
       "4                    4            boleto                       1    -22.19   \n",
       "\n",
       "   longitude  \n",
       "0     -41.71  \n",
       "1     -48.79  \n",
       "2     -48.79  \n",
       "3     -48.79  \n",
       "4     -48.79  "
      ]
     },
     "execution_count": 76,
     "metadata": {},
     "output_type": "execute_result"
    }
   ],
   "source": [
    "df_products.head()"
   ]
  },
  {
   "cell_type": "markdown",
   "id": "90d95a26",
   "metadata": {},
   "source": [
    "## Load Product List Into CSV "
   ]
  },
  {
   "cell_type": "code",
   "execution_count": 78,
   "id": "16a979da",
   "metadata": {},
   "outputs": [],
   "source": [
    "path = \"../data/table_from_2021.csv\"\n",
    "df_books.to_csv(path, index=False)"
   ]
  },
  {
   "cell_type": "code",
   "execution_count": 79,
   "id": "7e1b690e",
   "metadata": {},
   "outputs": [],
   "source": [
    "client.close()"
   ]
  }
 ],
 "metadata": {
  "kernelspec": {
   "display_name": "venv",
   "language": "python",
   "name": "python3"
  },
  "language_info": {
   "codemirror_mode": {
    "name": "ipython",
    "version": 3
   },
   "file_extension": ".py",
   "mimetype": "text/x-python",
   "name": "python",
   "nbconvert_exporter": "python",
   "pygments_lexer": "ipython3",
   "version": "3.10.12"
  }
 },
 "nbformat": 4,
 "nbformat_minor": 5
}
